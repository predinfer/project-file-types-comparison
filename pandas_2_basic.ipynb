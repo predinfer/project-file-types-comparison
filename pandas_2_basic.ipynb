{
 "cells": [
  {
   "cell_type": "code",
   "execution_count": 19,
   "metadata": {},
   "outputs": [],
   "source": [
    "import pandas as pd\n",
    "import numpy as np\n",
    "import time"
   ]
  },
  {
   "cell_type": "code",
   "execution_count": 20,
   "metadata": {},
   "outputs": [
    {
     "data": {
      "text/plain": [
       "'2.0.0'"
      ]
     },
     "execution_count": 20,
     "metadata": {},
     "output_type": "execute_result"
    }
   ],
   "source": [
    "pd.__version__"
   ]
  },
  {
   "cell_type": "code",
   "execution_count": 21,
   "metadata": {},
   "outputs": [
    {
     "name": "stdout",
     "output_type": "stream",
     "text": [
      "0.29596519470214844\n"
     ]
    }
   ],
   "source": [
    "start=time.time()\n",
    "\n",
    "df_2=pd.read_parquet('try_3.parquet', engine='pyarrow', dtype_backend='pyarrow')\n",
    "end=time.time()\n",
    "time_taken_parquet=end-start\n",
    "print(time_taken_parquet)"
   ]
  },
  {
   "cell_type": "code",
   "execution_count": 22,
   "metadata": {},
   "outputs": [
    {
     "data": {
      "text/plain": [
       "First Name            string[pyarrow]\n",
       "Last Name             string[pyarrow]\n",
       "Age                    int64[pyarrow]\n",
       "City                  string[pyarrow]\n",
       "Employed                bool[pyarrow]\n",
       "Room Number           string[pyarrow]\n",
       "Marks                 double[pyarrow]\n",
       "Birth Date     timestamp[us][pyarrow]\n",
       "dtype: object"
      ]
     },
     "execution_count": 22,
     "metadata": {},
     "output_type": "execute_result"
    }
   ],
   "source": [
    "df_2.dtypes"
   ]
  },
  {
   "cell_type": "code",
   "execution_count": 23,
   "metadata": {},
   "outputs": [
    {
     "name": "stdout",
     "output_type": "stream",
     "text": [
      "0.0066318511962890625\n"
     ]
    }
   ],
   "source": [
    "start=time.time()\n",
    "\n",
    "df_2['Age'].mean()\n",
    "end=time.time()\n",
    "time_taken_parquet=end-start\n",
    "print(time_taken_parquet)"
   ]
  },
  {
   "cell_type": "code",
   "execution_count": 24,
   "metadata": {},
   "outputs": [
    {
     "name": "stdout",
     "output_type": "stream",
     "text": [
      "0.0067996978759765625\n"
     ]
    }
   ],
   "source": [
    "start=time.time()\n",
    "\n",
    "df_2['Marks'].mean()\n",
    "end=time.time()\n",
    "time_taken_parquet=end-start\n",
    "print(time_taken_parquet)"
   ]
  },
  {
   "cell_type": "code",
   "execution_count": 25,
   "metadata": {},
   "outputs": [
    {
     "name": "stdout",
     "output_type": "stream",
     "text": [
      "0.028697729110717773\n"
     ]
    }
   ],
   "source": [
    "start=time.time()\n",
    "df_2['First Name'].str.endswith('hn')\n",
    "end=time.time()\n",
    "time_taken_parquet=end-start\n",
    "print(time_taken_parquet)"
   ]
  }
 ],
 "metadata": {
  "kernelspec": {
   "display_name": "Python 3",
   "language": "python",
   "name": "python3"
  },
  "language_info": {
   "codemirror_mode": {
    "name": "ipython",
    "version": 3
   },
   "file_extension": ".py",
   "mimetype": "text/x-python",
   "name": "python",
   "nbconvert_exporter": "python",
   "pygments_lexer": "ipython3",
   "version": "3.9.6 (default, Mar 10 2023, 20:16:38) \n[Clang 14.0.3 (clang-1403.0.22.14.1)]"
  },
  "orig_nbformat": 4,
  "vscode": {
   "interpreter": {
    "hash": "31f2aee4e71d21fbe5cf8b01ff0e069b9275f58929596ceb00d14d90e3e16cd6"
   }
  }
 },
 "nbformat": 4,
 "nbformat_minor": 2
}
