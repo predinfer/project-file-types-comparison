{
 "cells": [
  {
   "cell_type": "code",
   "execution_count": 30,
   "metadata": {},
   "outputs": [],
   "source": [
    "import pandas as pd\n",
    "import numpy as np\n",
    "import pyarrow\n",
    "import time"
   ]
  },
  {
   "cell_type": "code",
   "execution_count": 31,
   "metadata": {},
   "outputs": [],
   "source": [
    "bytes_list=[1000000]\n",
    "# bytes_list=list(range(100,10000000,10000)) ## Customize this as per your RAM capabilities\n",
    "# On my machine, 1000000 bytes produces a csv file of 0.2GB"
   ]
  },
  {
   "cell_type": "code",
   "execution_count": 32,
   "metadata": {},
   "outputs": [],
   "source": [
    "def random_dates(start, end, n, unit='D', seed=0):\n",
    "    \n",
    "    np.random.seed(seed)\n",
    "\n",
    "    ndays = (end - start).days + 1\n",
    "    return pd.to_timedelta(np.random.rand(n) * ndays, unit=unit) + start"
   ]
  },
  {
   "cell_type": "code",
   "execution_count": 33,
   "metadata": {},
   "outputs": [
    {
     "name": "stderr",
     "output_type": "stream",
     "text": [
      "/var/folders/72/97qs6j1x3zz6rcbjy0646r6h0000gp/T/ipykernel_33017/3379492515.py:9: FutureWarning: The frame.append method is deprecated and will be removed from pandas in a future version. Use pandas.concat instead.\n",
      "  df=df.append([df]*byte_size,ignore_index=True)\n"
     ]
    },
    {
     "data": {
      "text/html": [
       "<div>\n",
       "<style scoped>\n",
       "    .dataframe tbody tr th:only-of-type {\n",
       "        vertical-align: middle;\n",
       "    }\n",
       "\n",
       "    .dataframe tbody tr th {\n",
       "        vertical-align: top;\n",
       "    }\n",
       "\n",
       "    .dataframe thead th {\n",
       "        text-align: right;\n",
       "    }\n",
       "</style>\n",
       "<table border=\"1\" class=\"dataframe\">\n",
       "  <thead>\n",
       "    <tr style=\"text-align: right;\">\n",
       "      <th></th>\n",
       "      <th>First Name</th>\n",
       "      <th>Last Name</th>\n",
       "      <th>Age</th>\n",
       "      <th>City</th>\n",
       "      <th>Employed</th>\n",
       "      <th>Room Number</th>\n",
       "      <th>Marks</th>\n",
       "      <th>Birth Date</th>\n",
       "    </tr>\n",
       "  </thead>\n",
       "  <tbody>\n",
       "    <tr>\n",
       "      <th>0</th>\n",
       "      <td>Nic</td>\n",
       "      <td>Wilson</td>\n",
       "      <td>70</td>\n",
       "      <td>Boston</td>\n",
       "      <td>True</td>\n",
       "      <td>A1</td>\n",
       "      <td>87.8</td>\n",
       "      <td>2017-01-14</td>\n",
       "    </tr>\n",
       "    <tr>\n",
       "      <th>1</th>\n",
       "      <td>John</td>\n",
       "      <td>Barman</td>\n",
       "      <td>40</td>\n",
       "      <td>Cambridge</td>\n",
       "      <td>False</td>\n",
       "      <td>B2</td>\n",
       "      <td>98.8</td>\n",
       "      <td>2018-11-14</td>\n",
       "    </tr>\n",
       "    <tr>\n",
       "      <th>2</th>\n",
       "      <td>Maryam</td>\n",
       "      <td>Wagner</td>\n",
       "      <td>50</td>\n",
       "      <td>Edison</td>\n",
       "      <td>True</td>\n",
       "      <td>C4</td>\n",
       "      <td>30.0</td>\n",
       "      <td>2017-08-19</td>\n",
       "    </tr>\n",
       "    <tr>\n",
       "      <th>3</th>\n",
       "      <td>Melissa</td>\n",
       "      <td>Johnson</td>\n",
       "      <td>2</td>\n",
       "      <td>Saratoga</td>\n",
       "      <td>True</td>\n",
       "      <td>A3</td>\n",
       "      <td>67.4</td>\n",
       "      <td>2016-12-29</td>\n",
       "    </tr>\n",
       "    <tr>\n",
       "      <th>4</th>\n",
       "      <td>Trisha</td>\n",
       "      <td>Ellis</td>\n",
       "      <td>30</td>\n",
       "      <td>Medway</td>\n",
       "      <td>False</td>\n",
       "      <td>D5</td>\n",
       "      <td>77.3</td>\n",
       "      <td>2015-08-30</td>\n",
       "    </tr>\n",
       "    <tr>\n",
       "      <th>...</th>\n",
       "      <td>...</td>\n",
       "      <td>...</td>\n",
       "      <td>...</td>\n",
       "      <td>...</td>\n",
       "      <td>...</td>\n",
       "      <td>...</td>\n",
       "      <td>...</td>\n",
       "      <td>...</td>\n",
       "    </tr>\n",
       "    <tr>\n",
       "      <th>6000001</th>\n",
       "      <td>John</td>\n",
       "      <td>Barman</td>\n",
       "      <td>40</td>\n",
       "      <td>Cambridge</td>\n",
       "      <td>False</td>\n",
       "      <td>B2</td>\n",
       "      <td>98.8</td>\n",
       "      <td>2018-12-21</td>\n",
       "    </tr>\n",
       "    <tr>\n",
       "      <th>6000002</th>\n",
       "      <td>Maryam</td>\n",
       "      <td>Wagner</td>\n",
       "      <td>50</td>\n",
       "      <td>Edison</td>\n",
       "      <td>True</td>\n",
       "      <td>C4</td>\n",
       "      <td>30.0</td>\n",
       "      <td>2016-02-04</td>\n",
       "    </tr>\n",
       "    <tr>\n",
       "      <th>6000003</th>\n",
       "      <td>Melissa</td>\n",
       "      <td>Johnson</td>\n",
       "      <td>2</td>\n",
       "      <td>Saratoga</td>\n",
       "      <td>True</td>\n",
       "      <td>A3</td>\n",
       "      <td>67.4</td>\n",
       "      <td>2015-04-22</td>\n",
       "    </tr>\n",
       "    <tr>\n",
       "      <th>6000004</th>\n",
       "      <td>Trisha</td>\n",
       "      <td>Ellis</td>\n",
       "      <td>30</td>\n",
       "      <td>Medway</td>\n",
       "      <td>False</td>\n",
       "      <td>D5</td>\n",
       "      <td>77.3</td>\n",
       "      <td>2018-11-29</td>\n",
       "    </tr>\n",
       "    <tr>\n",
       "      <th>6000005</th>\n",
       "      <td>Mike</td>\n",
       "      <td>Hiltz</td>\n",
       "      <td>35</td>\n",
       "      <td>Brighton</td>\n",
       "      <td>False</td>\n",
       "      <td>D1</td>\n",
       "      <td>80.0</td>\n",
       "      <td>2013-07-20</td>\n",
       "    </tr>\n",
       "  </tbody>\n",
       "</table>\n",
       "<p>6000006 rows × 8 columns</p>\n",
       "</div>"
      ],
      "text/plain": [
       "        First Name Last Name  Age       City  Employed Room Number  Marks  \\\n",
       "0              Nic    Wilson   70     Boston      True          A1   87.8   \n",
       "1             John    Barman   40  Cambridge     False          B2   98.8   \n",
       "2           Maryam    Wagner   50     Edison      True          C4   30.0   \n",
       "3          Melissa   Johnson    2   Saratoga      True          A3   67.4   \n",
       "4           Trisha     Ellis   30     Medway     False          D5   77.3   \n",
       "...            ...       ...  ...        ...       ...         ...    ...   \n",
       "6000001       John    Barman   40  Cambridge     False          B2   98.8   \n",
       "6000002     Maryam    Wagner   50     Edison      True          C4   30.0   \n",
       "6000003    Melissa   Johnson    2   Saratoga      True          A3   67.4   \n",
       "6000004     Trisha     Ellis   30     Medway     False          D5   77.3   \n",
       "6000005       Mike     Hiltz   35   Brighton     False          D1   80.0   \n",
       "\n",
       "        Birth Date  \n",
       "0       2017-01-14  \n",
       "1       2018-11-14  \n",
       "2       2017-08-19  \n",
       "3       2016-12-29  \n",
       "4       2015-08-30  \n",
       "...            ...  \n",
       "6000001 2018-12-21  \n",
       "6000002 2016-02-04  \n",
       "6000003 2015-04-22  \n",
       "6000004 2018-11-29  \n",
       "6000005 2013-07-20  \n",
       "\n",
       "[6000006 rows x 8 columns]"
      ]
     },
     "metadata": {},
     "output_type": "display_data"
    },
    {
     "name": "stdout",
     "output_type": "stream",
     "text": [
      "First Name             object\n",
      "Last Name              object\n",
      "Age                     int64\n",
      "City                   object\n",
      "Employed                 bool\n",
      "Room Number            object\n",
      "Marks                 float64\n",
      "Birth Date     datetime64[ns]\n",
      "dtype: object\n"
     ]
    }
   ],
   "source": [
    "for byte_size in bytes_list:\n",
    "    data_list=[['Nic','Wilson',70,'Boston',True,'A1',87.8],['John','Barman',40,'Cambridge',False,'B2',98.8],['Maryam','Wagner',50,'Edison',True,'C4',30],\n",
    "            ['Melissa','Johnson',2,'Saratoga',True,'A3',67.4],['Trisha','Ellis',30,'Medway',False,'D5',77.3],['Mike','Hiltz',35,'Brighton',False,'D1',80]]\n",
    "    df=pd.DataFrame(data_list, columns=['First Name','Last Name','Age','City','Employed','Room Number','Marks'])\n",
    "    np.random.seed(0)\n",
    "    start = pd.to_datetime('2011-01-01')\n",
    "    end = pd.to_datetime('2022-01-01')\n",
    "\n",
    "    df=df.append([df]*byte_size,ignore_index=True)\n",
    "    df['Birth Date']=pd.to_datetime(random_dates(start, end, len(df)).date)\n",
    "    display(df)\n",
    "    print(df.dtypes)\n"
   ]
  },
  {
   "cell_type": "code",
   "execution_count": 34,
   "metadata": {},
   "outputs": [
    {
     "name": "stdout",
     "output_type": "stream",
     "text": [
      "11.639415979385376\n"
     ]
    }
   ],
   "source": [
    "start=time.time()\n",
    "df.to_csv('try_1.csv',index=False)\n",
    "end=time.time()\n",
    "time_taken_csv=end-start\n",
    "print(time_taken_csv)\n"
   ]
  },
  {
   "cell_type": "code",
   "execution_count": 35,
   "metadata": {},
   "outputs": [
    {
     "name": "stdout",
     "output_type": "stream",
     "text": [
      "3.459484100341797\n"
     ]
    }
   ],
   "source": [
    "\n",
    "start=time.time()\n",
    "df.to_json('try_2.json', orient='records')\n",
    "\n",
    "end=time.time()\n",
    "time_taken_json=end-start\n",
    "print(time_taken_json)\n",
    "\n"
   ]
  },
  {
   "cell_type": "code",
   "execution_count": 36,
   "metadata": {},
   "outputs": [
    {
     "name": "stdout",
     "output_type": "stream",
     "text": [
      "1.2742910385131836\n"
     ]
    }
   ],
   "source": [
    "\n",
    "start=time.time()\n",
    "df.to_parquet('try_3.parquet', engine='pyarrow')\n",
    "end=time.time()\n",
    "time_taken_parquet=end-start\n",
    "print(time_taken_parquet)\n",
    "\n"
   ]
  },
  {
   "cell_type": "code",
   "execution_count": 37,
   "metadata": {},
   "outputs": [
    {
     "name": "stdout",
     "output_type": "stream",
     "text": [
      "290000358\n",
      "872000873\n",
      "9724364\n"
     ]
    }
   ],
   "source": [
    "from pathlib import Path\n",
    "  \n",
    "size_csv = Path('try_1.csv').stat().st_size\n",
    "size_json = Path('try_2.json').stat().st_size\n",
    "size_parquet = Path('try_3.parquet').stat().st_size\n",
    "  \n",
    "print(size_csv)\n",
    "print(size_json)\n",
    "print(size_parquet)"
   ]
  },
  {
   "cell_type": "code",
   "execution_count": 45,
   "metadata": {},
   "outputs": [
    {
     "data": {
      "image/png": "[encoded data removed]",
      "text/plain": [
       "<Figure size 640x480 with 1 Axes>"
      ]
     },
     "metadata": {},
     "output_type": "display_data"
    }
   ],
   "source": [
    "import datetime\n",
    "import random\n",
    "import matplotlib.pyplot as plt\n",
    "\n",
    "# make up some data\n",
    "x = [time_taken_csv,time_taken_json,time_taken_parquet]\n",
    "y = [size_csv,size_json,size_parquet]\n",
    "labels=['csv','json','parquet']\n",
    "\n",
    "# plot\n",
    "plt.plot(x,y,'r*')\n",
    "for xy in zip(x,y):\n",
    "   plt.annotate('(%.2f, %.2f)' % xy, xy=xy)\n",
    "# beautify the x-labels\n",
    "#plt.gcf().autofmt_xdate()\n",
    "\n",
    "plt.show()"
   ]
  }
 ],
 "metadata": {
  "kernelspec": {
   "display_name": "Python 3",
   "language": "python",
   "name": "python3"
  },
  "language_info": {
   "codemirror_mode": {
    "name": "ipython",
    "version": 3
   },
   "file_extension": ".py",
   "mimetype": "text/x-python",
   "name": "python",
   "nbconvert_exporter": "python",
   "pygments_lexer": "ipython3",
   "version": "3.9.6 (default, Mar 10 2023, 20:16:38) \n[Clang 14.0.3 (clang-1403.0.22.14.1)]"
  },
  "orig_nbformat": 4,
  "vscode": {
   "interpreter": {
    "hash": "31f2aee4e71d21fbe5cf8b01ff0e069b9275f58929596ceb00d14d90e3e16cd6"
   }
  }
 },
 "nbformat": 4,
 "nbformat_minor": 2
}
