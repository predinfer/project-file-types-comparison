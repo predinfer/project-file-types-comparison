{
 "cells": [
  {
   "cell_type": "code",
   "execution_count": 1,
   "metadata": {},
   "outputs": [],
   "source": [
    "import pandas as pd\n",
    "import numpy as np\n",
    "import pyarrow\n",
    "import time"
   ]
  },
  {
   "cell_type": "code",
   "execution_count": 2,
   "metadata": {},
   "outputs": [],
   "source": [
    "#pd.show_versions()"
   ]
  },
  {
   "cell_type": "code",
   "execution_count": 3,
   "metadata": {},
   "outputs": [],
   "source": [
    "bytes_list=[1000000]\n",
    "# bytes_list=list(range(100,10000000,10000)) ## Customize this as per your RAM capabilities\n",
    "# On my machine, 1000000 bytes produces a csv file of 0.2GB"
   ]
  },
  {
   "cell_type": "code",
   "execution_count": 4,
   "metadata": {},
   "outputs": [],
   "source": [
    "def random_dates(start, end, n, unit='D', seed=0):\n",
    "    \n",
    "    np.random.seed(seed)\n",
    "\n",
    "    ndays = (end - start).days + 1\n",
    "    return pd.to_timedelta(np.random.rand(n) * ndays, unit=unit) + start"
   ]
  },
  {
   "cell_type": "code",
   "execution_count": 5,
   "metadata": {},
   "outputs": [
    {
     "data": {
      "text/html": [
       "<div>\n",
       "<style scoped>\n",
       "    .dataframe tbody tr th:only-of-type {\n",
       "        vertical-align: middle;\n",
       "    }\n",
       "\n",
       "    .dataframe tbody tr th {\n",
       "        vertical-align: top;\n",
       "    }\n",
       "\n",
       "    .dataframe thead th {\n",
       "        text-align: right;\n",
       "    }\n",
       "</style>\n",
       "<table border=\"1\" class=\"dataframe\">\n",
       "  <thead>\n",
       "    <tr style=\"text-align: right;\">\n",
       "      <th></th>\n",
       "      <th>First Name</th>\n",
       "      <th>Last Name</th>\n",
       "      <th>Age</th>\n",
       "      <th>City</th>\n",
       "      <th>Employed</th>\n",
       "      <th>Room Number</th>\n",
       "      <th>Marks</th>\n",
       "      <th>Birth Date</th>\n",
       "    </tr>\n",
       "  </thead>\n",
       "  <tbody>\n",
       "    <tr>\n",
       "      <th>0</th>\n",
       "      <td>Nic</td>\n",
       "      <td>Wilson</td>\n",
       "      <td>70</td>\n",
       "      <td>Boston</td>\n",
       "      <td>True</td>\n",
       "      <td>A1</td>\n",
       "      <td>87.8</td>\n",
       "      <td>2017-01-14</td>\n",
       "    </tr>\n",
       "    <tr>\n",
       "      <th>1</th>\n",
       "      <td>John</td>\n",
       "      <td>Barman</td>\n",
       "      <td>40</td>\n",
       "      <td>Cambridge</td>\n",
       "      <td>False</td>\n",
       "      <td>B2</td>\n",
       "      <td>98.8</td>\n",
       "      <td>2018-11-14</td>\n",
       "    </tr>\n",
       "    <tr>\n",
       "      <th>2</th>\n",
       "      <td>Maryam</td>\n",
       "      <td>Wagner</td>\n",
       "      <td>50</td>\n",
       "      <td>Edison</td>\n",
       "      <td>True</td>\n",
       "      <td>C4</td>\n",
       "      <td>30.0</td>\n",
       "      <td>2017-08-19</td>\n",
       "    </tr>\n",
       "    <tr>\n",
       "      <th>3</th>\n",
       "      <td>Melissa</td>\n",
       "      <td>Johnson</td>\n",
       "      <td>2</td>\n",
       "      <td>Saratoga</td>\n",
       "      <td>True</td>\n",
       "      <td>A3</td>\n",
       "      <td>67.4</td>\n",
       "      <td>2016-12-29</td>\n",
       "    </tr>\n",
       "    <tr>\n",
       "      <th>4</th>\n",
       "      <td>Trisha</td>\n",
       "      <td>Ellis</td>\n",
       "      <td>30</td>\n",
       "      <td>Medway</td>\n",
       "      <td>False</td>\n",
       "      <td>D5</td>\n",
       "      <td>77.3</td>\n",
       "      <td>2015-08-30</td>\n",
       "    </tr>\n",
       "    <tr>\n",
       "      <th>...</th>\n",
       "      <td>...</td>\n",
       "      <td>...</td>\n",
       "      <td>...</td>\n",
       "      <td>...</td>\n",
       "      <td>...</td>\n",
       "      <td>...</td>\n",
       "      <td>...</td>\n",
       "      <td>...</td>\n",
       "    </tr>\n",
       "    <tr>\n",
       "      <th>5999995</th>\n",
       "      <td>John</td>\n",
       "      <td>Barman</td>\n",
       "      <td>40</td>\n",
       "      <td>Cambridge</td>\n",
       "      <td>False</td>\n",
       "      <td>B2</td>\n",
       "      <td>98.8</td>\n",
       "      <td>2012-12-04</td>\n",
       "    </tr>\n",
       "    <tr>\n",
       "      <th>5999996</th>\n",
       "      <td>Maryam</td>\n",
       "      <td>Wagner</td>\n",
       "      <td>50</td>\n",
       "      <td>Edison</td>\n",
       "      <td>True</td>\n",
       "      <td>C4</td>\n",
       "      <td>30.0</td>\n",
       "      <td>2013-08-14</td>\n",
       "    </tr>\n",
       "    <tr>\n",
       "      <th>5999997</th>\n",
       "      <td>Melissa</td>\n",
       "      <td>Johnson</td>\n",
       "      <td>2</td>\n",
       "      <td>Saratoga</td>\n",
       "      <td>True</td>\n",
       "      <td>A3</td>\n",
       "      <td>67.4</td>\n",
       "      <td>2016-01-10</td>\n",
       "    </tr>\n",
       "    <tr>\n",
       "      <th>5999998</th>\n",
       "      <td>Trisha</td>\n",
       "      <td>Ellis</td>\n",
       "      <td>30</td>\n",
       "      <td>Medway</td>\n",
       "      <td>False</td>\n",
       "      <td>D5</td>\n",
       "      <td>77.3</td>\n",
       "      <td>2021-10-01</td>\n",
       "    </tr>\n",
       "    <tr>\n",
       "      <th>5999999</th>\n",
       "      <td>Mike</td>\n",
       "      <td>Hiltz</td>\n",
       "      <td>35</td>\n",
       "      <td>Brighton</td>\n",
       "      <td>False</td>\n",
       "      <td>D1</td>\n",
       "      <td>80.0</td>\n",
       "      <td>2011-09-21</td>\n",
       "    </tr>\n",
       "  </tbody>\n",
       "</table>\n",
       "<p>6000000 rows × 8 columns</p>\n",
       "</div>"
      ],
      "text/plain": [
       "        First Name Last Name  Age       City  Employed Room Number  Marks   \n",
       "0              Nic    Wilson   70     Boston      True          A1   87.8  \\\n",
       "1             John    Barman   40  Cambridge     False          B2   98.8   \n",
       "2           Maryam    Wagner   50     Edison      True          C4   30.0   \n",
       "3          Melissa   Johnson    2   Saratoga      True          A3   67.4   \n",
       "4           Trisha     Ellis   30     Medway     False          D5   77.3   \n",
       "...            ...       ...  ...        ...       ...         ...    ...   \n",
       "5999995       John    Barman   40  Cambridge     False          B2   98.8   \n",
       "5999996     Maryam    Wagner   50     Edison      True          C4   30.0   \n",
       "5999997    Melissa   Johnson    2   Saratoga      True          A3   67.4   \n",
       "5999998     Trisha     Ellis   30     Medway     False          D5   77.3   \n",
       "5999999       Mike     Hiltz   35   Brighton     False          D1   80.0   \n",
       "\n",
       "        Birth Date  \n",
       "0       2017-01-14  \n",
       "1       2018-11-14  \n",
       "2       2017-08-19  \n",
       "3       2016-12-29  \n",
       "4       2015-08-30  \n",
       "...            ...  \n",
       "5999995 2012-12-04  \n",
       "5999996 2013-08-14  \n",
       "5999997 2016-01-10  \n",
       "5999998 2021-10-01  \n",
       "5999999 2011-09-21  \n",
       "\n",
       "[6000000 rows x 8 columns]"
      ]
     },
     "metadata": {},
     "output_type": "display_data"
    },
    {
     "name": "stdout",
     "output_type": "stream",
     "text": [
      "First Name             object\n",
      "Last Name              object\n",
      "Age                     int64\n",
      "City                   object\n",
      "Employed                 bool\n",
      "Room Number            object\n",
      "Marks                 float64\n",
      "Birth Date     datetime64[ns]\n",
      "dtype: object\n"
     ]
    }
   ],
   "source": [
    "for byte_size in bytes_list:\n",
    "    data_list=[['Nic','Wilson',70,'Boston',True,'A1',87.8],['John','Barman',40,'Cambridge',False,'B2',98.8],['Maryam','Wagner',50,'Edison',True,'C4',30],\n",
    "            ['Melissa','Johnson',2,'Saratoga',True,'A3',67.4],['Trisha','Ellis',30,'Medway',False,'D5',77.3],['Mike','Hiltz',35,'Brighton',False,'D1',80]]\n",
    "    df=pd.DataFrame(data_list, columns=['First Name','Last Name','Age','City','Employed','Room Number','Marks'])\n",
    "    np.random.seed(0)\n",
    "    start = pd.to_datetime('2011-01-01')\n",
    "    end = pd.to_datetime('2022-01-01')\n",
    "    df=pd.concat([df]*byte_size, ignore_index=True) # Ignores the index\n",
    "\n",
    "    df['Birth Date']=pd.to_datetime(random_dates(start, end, len(df)).date)\n",
    "    display(df)\n",
    "    print(df.dtypes)\n"
   ]
  },
  {
   "cell_type": "code",
   "execution_count": 6,
   "metadata": {},
   "outputs": [
    {
     "name": "stdout",
     "output_type": "stream",
     "text": [
      "11.841782093048096\n"
     ]
    }
   ],
   "source": [
    "start=time.time()\n",
    "df.to_csv('try_1.csv',index=False)\n",
    "end=time.time()\n",
    "time_taken_csv=end-start\n",
    "print(time_taken_csv)\n"
   ]
  },
  {
   "cell_type": "code",
   "execution_count": 7,
   "metadata": {},
   "outputs": [
    {
     "name": "stdout",
     "output_type": "stream",
     "text": [
      "4.91434121131897\n"
     ]
    }
   ],
   "source": [
    "\n",
    "start=time.time()\n",
    "df.to_json('try_2.json', orient='records')\n",
    "\n",
    "end=time.time()\n",
    "time_taken_json=end-start\n",
    "print(time_taken_json)\n",
    "\n"
   ]
  },
  {
   "cell_type": "code",
   "execution_count": 8,
   "metadata": {},
   "outputs": [
    {
     "name": "stdout",
     "output_type": "stream",
     "text": [
      "1.272387981414795\n"
     ]
    }
   ],
   "source": [
    "\n",
    "start=time.time()\n",
    "df.to_parquet('try_3.parquet', engine='pyarrow')\n",
    "end=time.time()\n",
    "time_taken_parquet=end-start\n",
    "print(time_taken_parquet)\n",
    "\n"
   ]
  },
  {
   "cell_type": "code",
   "execution_count": 9,
   "metadata": {},
   "outputs": [
    {
     "name": "stdout",
     "output_type": "stream",
     "text": [
      "0.27008360996842384\n",
      "0.8121132859960198\n",
      "0.009056495502591133\n"
     ]
    }
   ],
   "source": [
    "from pathlib import Path\n",
    "  \n",
    "size_csv = Path('try_1.csv').stat().st_size/(1024*1024*1024)\n",
    "size_json = Path('try_2.json').stat().st_size/(1024*1024*1024)\n",
    "size_parquet = Path('try_3.parquet').stat().st_size/(1024*1024*1024)\n",
    "  \n",
    "print(size_csv)\n",
    "print(size_json)\n",
    "print(size_parquet)"
   ]
  },
  {
   "cell_type": "code",
   "execution_count": 11,
   "metadata": {},
   "outputs": [
    {
     "data": {
      "image/png": "[encoded data removed]",
      "text/plain": [
       "<Figure size 640x480 with 1 Axes>"
      ]
     },
     "metadata": {},
     "output_type": "display_data"
    }
   ],
   "source": [
    "import datetime\n",
    "import random\n",
    "import matplotlib.pyplot as plt\n",
    "\n",
    "# make up some data\n",
    "x = [time_taken_csv,time_taken_json,time_taken_parquet]\n",
    "y = [size_csv,size_json,size_parquet]\n",
    "labels=['csv','json','parquet']\n",
    "\n",
    "# plot\n",
    "plt.plot(x,y,'o')\n",
    "plt.xlabel('Time taken to save the file in seconds')\n",
    "plt.ylabel('Size of the file in GB')\n",
    "plt.title('Graphs comparing Time vs Memeory for the 3 types of files - (CSV, JSON, PARQUET)')\n",
    "#plt.text(labels)\n",
    "# for xy in zip(x,y):\n",
    "#    plt.annotate('(%.2f, %.2f)' % xy, xy=xy)\n",
    "for i in range(len(labels)):\n",
    "    plt.text(x[i]+0.1,y[i],'{}'.format(labels[i]))\n",
    "# beautify the x-labels\n",
    "#plt.gcf().autofmt_xdate()\n",
    "\n",
    "plt.show()"
   ]
  }
 ],
 "metadata": {
  "kernelspec": {
   "display_name": "Python 3",
   "language": "python",
   "name": "python3"
  },
  "language_info": {
   "codemirror_mode": {
    "name": "ipython",
    "version": 3
   },
   "file_extension": ".py",
   "mimetype": "text/x-python",
   "name": "python",
   "nbconvert_exporter": "python",
   "pygments_lexer": "ipython3",
   "version": "3.9.6"
  },
  "orig_nbformat": 4,
  "vscode": {
   "interpreter": {
    "hash": "31f2aee4e71d21fbe5cf8b01ff0e069b9275f58929596ceb00d14d90e3e16cd6"
   }
  }
 },
 "nbformat": 4,
 "nbformat_minor": 2
}
