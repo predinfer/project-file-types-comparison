{
 "cells": [
  {
   "cell_type": "code",
   "execution_count": 1,
   "metadata": {},
   "outputs": [],
   "source": [
    "import pandas as pd\n",
    "import numpy as np\n",
    "import time"
   ]
  },
  {
   "cell_type": "code",
   "execution_count": 2,
   "metadata": {},
   "outputs": [
    {
     "data": {
      "text/plain": [
       "'1.5.2'"
      ]
     },
     "execution_count": 2,
     "metadata": {},
     "output_type": "execute_result"
    }
   ],
   "source": [
    "pd.__version__"
   ]
  },
  {
   "cell_type": "code",
   "execution_count": 3,
   "metadata": {},
   "outputs": [
    {
     "name": "stdout",
     "output_type": "stream",
     "text": [
      "0.3500051498413086\n"
     ]
    }
   ],
   "source": [
    "start=time.time()\n",
    "\n",
    "df_2=pd.read_parquet('try_3.parquet', engine='pyarrow')\n",
    "end=time.time()\n",
    "time_taken_parquet=end-start\n",
    "print(time_taken_parquet)"
   ]
  },
  {
   "cell_type": "code",
   "execution_count": 4,
   "metadata": {},
   "outputs": [
    {
     "data": {
      "text/plain": [
       "First Name             object\n",
       "Last Name              object\n",
       "Age                     int64\n",
       "City                   object\n",
       "Employed                 bool\n",
       "Room Number            object\n",
       "Marks                 float64\n",
       "Birth Date     datetime64[ns]\n",
       "dtype: object"
      ]
     },
     "execution_count": 4,
     "metadata": {},
     "output_type": "execute_result"
    }
   ],
   "source": [
    "df_2.dtypes"
   ]
  },
  {
   "cell_type": "code",
   "execution_count": 5,
   "metadata": {},
   "outputs": [
    {
     "name": "stdout",
     "output_type": "stream",
     "text": [
      "0.007378816604614258\n"
     ]
    }
   ],
   "source": [
    "start=time.time()\n",
    "\n",
    "df_2['Age'].mean()\n",
    "end=time.time()\n",
    "time_taken_parquet=end-start\n",
    "print(time_taken_parquet)"
   ]
  },
  {
   "cell_type": "code",
   "execution_count": 6,
   "metadata": {},
   "outputs": [
    {
     "name": "stdout",
     "output_type": "stream",
     "text": [
      "0.011307954788208008\n"
     ]
    }
   ],
   "source": [
    "start=time.time()\n",
    "\n",
    "df_2['Marks'].mean()\n",
    "end=time.time()\n",
    "time_taken_parquet=end-start\n",
    "print(time_taken_parquet)"
   ]
  },
  {
   "cell_type": "code",
   "execution_count": 7,
   "metadata": {},
   "outputs": [
    {
     "name": "stdout",
     "output_type": "stream",
     "text": [
      "0.9343700408935547\n"
     ]
    }
   ],
   "source": [
    "start=time.time()\n",
    "df_2['First Name'].str.endswith('hn')\n",
    "end=time.time()\n",
    "time_taken_parquet=end-start\n",
    "print(time_taken_parquet)"
   ]
  }
 ],
 "metadata": {
  "kernelspec": {
   "display_name": "Python 3",
   "language": "python",
   "name": "python3"
  },
  "language_info": {
   "codemirror_mode": {
    "name": "ipython",
    "version": 3
   },
   "file_extension": ".py",
   "mimetype": "text/x-python",
   "name": "python",
   "nbconvert_exporter": "python",
   "pygments_lexer": "ipython3",
   "version": "3.9.6"
  },
  "orig_nbformat": 4,
  "vscode": {
   "interpreter": {
    "hash": "31f2aee4e71d21fbe5cf8b01ff0e069b9275f58929596ceb00d14d90e3e16cd6"
   }
  }
 },
 "nbformat": 4,
 "nbformat_minor": 2
}
